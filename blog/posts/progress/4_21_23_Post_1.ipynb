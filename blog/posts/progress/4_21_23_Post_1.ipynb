{
 "cells": [
  {
   "cell_type": "markdown",
   "metadata": {},
   "source": [
    "# My fast.ai plan"
   ]
  },
  {
   "cell_type": "markdown",
   "metadata": {},
   "source": [
    "It's been a couple weeks since I started my fast.ai journey. I've been hesitant on starting a blog because of of the amount of work it seems to require. Also, because I'm not sure what I'd actually write about. But I've decided to give it a shot today. Rather than aiming for perfection on the first try, my goal is to do what what I can, then return and improve. \n",
    "\n",
    "In Lesson 0, Jeremy Howard explains the best approach to getting the most out of the fast.ai course. The key takeaways for me were 1) finish the course 2) complete a personal project 3) write about it and 4) share your work. Additionally, for each lesson, he recommends watching the lecture, running and experimenting with the notebooks, familiarize yourself with the code and rewrite and implement everything for your own project. Thinking about doing all these recommended steps is daunting. \n",
    "\n",
    "Therefore, instead of aiming for perfection on the first try, I will be aiming for completion. Below is my current plan for this first runthrough of the course:\n",
    "1. Lessons:\n",
    "    - Watch the lecture, read and run through the notebook, answer the chapter questions, familiarize myself with the code by writing down the code and commenting out each line's function.\n",
    "2. Personal Project:\n",
    "    - Find a Kaggle competition that interests me.\n",
    "3. Blog:\n",
    "    - Write a post at the end of every week. Don't get bogged down by stylizing, or creating an actual website. The important part is tracking learnings, progress and obstacles. \n",
    "4. Share Your Work:\n",
    "    - Hold until second runthrough."
   ]
  },
  {
   "cell_type": "markdown",
   "metadata": {},
   "source": [
    "## My progress"
   ]
  },
  {
   "cell_type": "markdown",
   "metadata": {},
   "source": [
    "Currently, I am finishing up the reading for Lesson 4 (I skipped Lesson 3 on Data Ethics for now). Below is my progress so far:\n",
    "- For lesson 1, I ran the code on search images of golden doodles versus fried chicken. \n",
    "- For lesson 2, I ran the code on search images of cake and bread and created a simple Cake or Bread app on Hugging Face: https://huggingface.co/spaces/joannah/cake_or_bread The model is pretty terrible given it's only trained on a total of 45 images. "
   ]
  },
  {
   "cell_type": "markdown",
   "metadata": {},
   "source": [
    "## Key Concepts"
   ]
  },
  {
   "cell_type": "markdown",
   "metadata": {},
   "source": [
    "### What is machine learning?\n",
    "- <span style=\"color:blue\">Machine learning, like regular programming, is a way to get computers to complete a task. Normally, we just think about the exact steps we'd take to complete the task and then we translate them into code. But for some tasks, defining exact steps can bit tricky, since it's all happening in our brain without any conscious effort. Therefore, instead of telling the computer the exact steps for solving a problem, how can we have it figure it out by itself? For example, imagine we're trying to predict pastry sales for a cafe. We believe that factors such as weather and day of the week are influential factors. We can assign weights to these variables. Depending on the weights we assign, our model will put more emphasis on the variable with a higher weight. We can initialize these weights to any random number at first then calculate how our predictions differ from historical sales records. Based on the difference we calculate, we adjust the weights a little further in the direction that is a closer fit. This process can be entirely automatic and a machine can be programmed to \"learn\" from its experience. </span>\n",
    "\n",
    "### What is a neural network?\n",
    "- <span style=\"color:blue\">A neural network is a type of machine learning. It is a mathematical function that is extremely flexible and can solve a wide range of problems just by finding the right weights.  </span>\n",
    "\n",
    "### What is stochastic gradient descent?\n",
    "- <span style=\"color:blue\">Gradient descent is an iterative algorithm, that starts from a random point on a function and travels down its slope in steps until it reaches the lowest point of that function. To make gradient descent more efficient on large sets of data, we utilize stochastic gradient descent which randomly picks one data point from the whole data set to calculate the derivative at each iteration. </span>"
   ]
  },
  {
   "cell_type": "code",
   "execution_count": null,
   "metadata": {},
   "outputs": [],
   "source": []
  }
 ],
 "metadata": {
  "kernelspec": {
   "display_name": "Python 3",
   "language": "python",
   "name": "python3"
  },
  "language_info": {
   "codemirror_mode": {
    "name": "ipython",
    "version": 3
   },
   "file_extension": ".py",
   "mimetype": "text/x-python",
   "name": "python",
   "nbconvert_exporter": "python",
   "pygments_lexer": "ipython3",
   "version": "3.6.8"
  }
 },
 "nbformat": 4,
 "nbformat_minor": 2
}
