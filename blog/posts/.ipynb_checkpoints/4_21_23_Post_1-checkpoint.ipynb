{
 "cells": [
  {
   "cell_type": "markdown",
   "metadata": {},
   "source": [
    "# My fast.ai plan"
   ]
  },
  {
   "cell_type": "markdown",
   "metadata": {},
   "source": [
    "It's been a couple weeks since I started my fast.ai journey. I've been hesitant on starting a blog because of of the amount of work it seems to require. Also, because I'm not sure what I'd actually write about. But I've decided to give it a shot today. Rather than aiming for perfection on the first try, my goal is to do what what I can, then return and improve. \n",
    "\n",
    "In Lesson 0, Jeremy Howard explains the best approach to getting the most out of the fast.ai course. The key takeaways for me were 1) finish the course 2) complete a personal project 3) write about it and 4) share your work. Additionally, for each lesson, he recommends watching the lecture, running and experimenting with the notebooks, familiarize yourself with the code and rewrite and implement everything for your own project. Thinking about doing all these recommended steps is daunting. \n",
    "\n",
    "Therefore, instead of aiming for perfection on the first try, I will be aiming for completion. Below is my current plan for this first runthrough of the course:\n",
    "1. Lessons:\n",
    "    - Watch the lecture, read and run through the notebook, answer the chapter questions, familiarize myself with the code by writing down the code and commenting out each line's function.\n",
    "2. Personal Project:\n",
    "    - Find a Kaggle competition that interests me.\n",
    "3. Blog:\n",
    "    - Write a post at the end of every week. Don't get bogged down by stylizing, or creating an actual website. The important part is tracking learnings, progress and obstacles. \n",
    "4. Share Your Work:\n",
    "    - Hold until second runthrough."
   ]
  },
  {
   "cell_type": "markdown",
   "metadata": {},
   "source": [
    "## My progress"
   ]
  },
  {
   "cell_type": "markdown",
   "metadata": {},
   "source": [
    "Currently, I am finishing up the reading for Lesson 4 (I skipped Lesson 3 on Data Ethics for now). Below is my progress so far:\n",
    "- For lesson 1, I ran the code on search images of golden doodles versus fried chicken. \n",
    "- For lesson 2, I ran the code on search images of cake and bread and created a simple Cake or Bread app on Hugging Face: https://huggingface.co/spaces/joannah/cake_or_bread The model is pretty terrible given it's only trained on a total of 45 images. "
   ]
  },
  {
   "cell_type": "markdown",
   "metadata": {},
   "source": [
    "## Key Concepts"
   ]
  },
  {
   "cell_type": "markdown",
   "metadata": {},
   "source": [
    "### What is machine learning?\n",
    "\n",
    "### What is a neural network?\n",
    "\n",
    "### What is stochastic gradient descent?"
   ]
  }
 ],
 "metadata": {
  "kernelspec": {
   "display_name": "Python 3",
   "language": "python",
   "name": "python3"
  },
  "language_info": {
   "codemirror_mode": {
    "name": "ipython",
    "version": 3
   },
   "file_extension": ".py",
   "mimetype": "text/x-python",
   "name": "python",
   "nbconvert_exporter": "python",
   "pygments_lexer": "ipython3",
   "version": "3.6.8"
  }
 },
 "nbformat": 4,
 "nbformat_minor": 2
}
