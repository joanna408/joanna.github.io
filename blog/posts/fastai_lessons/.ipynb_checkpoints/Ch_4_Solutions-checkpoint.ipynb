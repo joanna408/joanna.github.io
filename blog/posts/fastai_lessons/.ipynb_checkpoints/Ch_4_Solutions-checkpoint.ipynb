{
 "cells": [
  {
   "cell_type": "markdown",
   "metadata": {},
   "source": [
    "---\n",
    "\n",
    "# Title: Chapter 4 Solutions\n",
    "\n",
    "Date: April 24, 2023\n",
    "\n",
    "---"
   ]
  },
  {
   "cell_type": "markdown",
   "metadata": {},
   "source": [
    "1. How is a grayscale image represented on a computer? How about a color image?\n",
    "    - <span style=\"color:blue\">A grayscale image is represented by a list of NumPy arrays or PyTorch tensors. White pixels are stored as the number 0, black is the number 255 and shades of grey are between the two. For color images, separate red, green and blue components are stored for each pixel so the pixel value is a vector of 3 numbers. </span>\n",
    "\n",
    "2. How are the files and folders in the MNIST_SAMPLE dataset structured? Why?\n",
    "    - <span style=\"color:blue\">some *blue* text</span>\n",
    "3. Explain how the \"pixel similarity\" approach to classifying digits works.\n",
    "    - <span style=\"color:blue\">some *blue* text</span>\n",
    "4. What is a list comprehension? Create one now that selects odd numbers from a list and doubles them.\n",
    "    - <span style=\"color:blue\">A list comprehension consists three parts: 1) the collection you are iterating over, 2) an optional filter and 3) something to do to each element. It's shorter to write and more efficient that creating the same list with a loop. \n",
    "double_odds = [2*x for x in a_list if x%2 !=0]</span> \n",
    "\n",
    "5. What is a \"rank-3 tensor\"?\n",
    "    - <span style=\"color:blue\">A rank-3 tensor is a list of matrices. </span> \n",
    "\n",
    "6. What is the difference between tensor rank and shape? How do you get the rank from the shape?\n",
    "    - <span style=\"color:blue\">Tensor rank is the number of dimensions or axes, and the tensor shape is the length of the axes. To get the rank of a tensor, use tensor.ndim() or len(tensor.shape).</span> \n",
    "\n",
    "7. What are RMSE and L1 norm?\n",
    "    - <span style=\"color:blue\">some *blue* text</span>\n",
    "\n",
    "How can you apply a calculation on thousands of numbers at once, many thousands of times faster than a Python loop?\n",
    "Create a 3×3 tensor or array containing the numbers from 1 to 9. Double it. Select the bottom-right four numbers.\n",
    "What is broadcasting?\n",
    "Are metrics generally calculated using the training set, or the validation set? Why?\n",
    "What is SGD?\n",
    "Why does SGD use mini-batches?\n",
    "What are the seven steps in SGD for machine learning?\n",
    "How do we initialize the weights in a model?\n",
    "What is \"loss\"?\n",
    "Why can't we always use a high learning rate?\n",
    "What is a \"gradient\"?\n",
    "Do you need to know how to calculate gradients yourself?\n",
    "Why can't we use accuracy as a loss function?\n",
    "Draw the sigmoid function. What is special about its shape?\n",
    "What is the difference between a loss function and a metric?\n",
    "What is the function to calculate new weights using a learning rate?\n",
    "What does the DataLoader class do?\n",
    "Write pseudocode showing the basic steps taken in each epoch for SGD.\n",
    "Create a function that, if passed two arguments [1,2,3,4] and 'abcd', returns [(1, 'a'), (2, 'b'), (3, 'c'), (4, 'd')]. What is special about that output data structure?\n",
    "What does view do in PyTorch?\n",
    "What are the \"bias\" parameters in a neural network? Why do we need them?\n",
    "What does the @ operator do in Python?\n",
    "What does the backward method do?\n",
    "Why do we have to zero the gradients?\n",
    "What information do we have to pass to Learner?\n",
    "Show Python or pseudocode for the basic steps of a training loop.\n",
    "What is \"ReLU\"? Draw a plot of it for values from -2 to +2.\n",
    "What is an \"activation function\"?\n",
    "What's the difference between F.relu and nn.ReLU?\n",
    "The universal approximation theorem shows that any function can be approximated as closely as needed using just one nonlinearity. So why do we normally use more?"
   ]
  },
  {
   "cell_type": "code",
   "execution_count": null,
   "metadata": {},
   "outputs": [],
   "source": []
  }
 ],
 "metadata": {
  "kernelspec": {
   "display_name": "Python 3",
   "language": "python",
   "name": "python3"
  },
  "language_info": {
   "codemirror_mode": {
    "name": "ipython",
    "version": 3
   },
   "file_extension": ".py",
   "mimetype": "text/x-python",
   "name": "python",
   "nbconvert_exporter": "python",
   "pygments_lexer": "ipython3",
   "version": "3.6.8"
  }
 },
 "nbformat": 4,
 "nbformat_minor": 2
}
